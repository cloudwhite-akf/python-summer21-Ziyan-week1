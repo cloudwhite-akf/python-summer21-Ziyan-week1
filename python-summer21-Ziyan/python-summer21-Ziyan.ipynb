{
 "cells": [
  {
   "cell_type": "code",
   "execution_count": 6,
   "id": "f0b2fa46",
   "metadata": {},
   "outputs": [
    {
     "name": "stdout",
     "output_type": "stream",
     "text": [
      "First they came ...\n",
      "\n",
      "\n",
      "BY MARTIN NIEMÖLLER \n",
      "\n",
      "\n",
      "First they came for the Communists,\n",
      "And I did not speak out\n",
      "Because I was not a Communist.\n",
      "\n",
      "\n",
      "Then they came for the Socialists,\n",
      "And I did not speak out\n",
      "Because I was not a Socialist.\n",
      "\n",
      "\n",
      "Then they came for the trade unionists,\n",
      "And I did not speak out\n",
      "Because I was not a trade unionist.\n",
      "\n",
      "\n",
      "Then they came for the Jews,\n",
      "And I did not speak out\n",
      "Because I was not a Jew.\n",
      "\n",
      "\n",
      "Then they came for me,\n",
      "And there was no one left\n",
      "To speak out for me.\n",
      "\n",
      "\n"
     ]
    }
   ],
   "source": [
    "a = \"they came ...\"\n",
    "b = \"by Martin Niemöller \"\n",
    "\n",
    "print (f'First {a}')\n",
    "print('\\n')\n",
    "print(b.upper())\n",
    "print('\\n')\n",
    "print('First they came for the Communists,')\n",
    "print('And I did not speak out')\n",
    "print(\"Because I was not a Communist.\")\n",
    "print('\\n')\n",
    "print('Then they came for the Socialists,')\n",
    "print('And I did not speak out')\n",
    "print(\"Because I was not a Socialist.\")\n",
    "print('\\n')\n",
    "print('Then they came for the trade unionists,')\n",
    "print('And I did not speak out')\n",
    "print(\"Because I was not a trade unionist.\")\n",
    "print('\\n')\n",
    "print('Then they came for the Jews,')\n",
    "print('And I did not speak out')\n",
    "print(\"Because I was not a Jew.\")\n",
    "print('\\n')\n",
    "print('Then they came for me,')\n",
    "print('And there was no one left')\n",
    "print(\"To speak out for me.\")\n",
    "print('\\n')"
   ]
  },
  {
   "cell_type": "code",
   "execution_count": null,
   "id": "4ecb560c",
   "metadata": {},
   "outputs": [],
   "source": []
  },
  {
   "cell_type": "code",
   "execution_count": null,
   "id": "75c32bfa",
   "metadata": {},
   "outputs": [],
   "source": []
  }
 ],
 "metadata": {
  "kernelspec": {
   "display_name": "Python 3",
   "language": "python",
   "name": "python3"
  },
  "language_info": {
   "codemirror_mode": {
    "name": "ipython",
    "version": 3
   },
   "file_extension": ".py",
   "mimetype": "text/x-python",
   "name": "python",
   "nbconvert_exporter": "python",
   "pygments_lexer": "ipython3",
   "version": "3.8.8"
  }
 },
 "nbformat": 4,
 "nbformat_minor": 5
}
